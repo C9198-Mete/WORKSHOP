{
 "cells": [
  {
   "cell_type": "markdown",
   "metadata": {},
   "source": [
    "### Problem 1\n",
    "\n",
    "Write a program that multiplies three numbers entered by the user. Print the output with the format method."
   ]
  },
  {
   "cell_type": "code",
   "execution_count": 3,
   "metadata": {},
   "outputs": [
    {
     "name": "stdin",
     "output_type": "stream",
     "text": [
      "Enter a number: 2\n",
      "Enter a number: 2\n",
      "Enter a number: 2\n"
     ]
    },
    {
     "name": "stdout",
     "output_type": "stream",
     "text": [
      "<class 'int'>\n",
      "2 * 2 * 2 = 8 \n"
     ]
    }
   ],
   "source": [
    "x=int(input(\"Enter a number:\"))\n",
    "y=int(input(\"Enter a number:\"))\n",
    "z=int(input(\"Enter a number:\"))\n",
    "multiply=x*y*z\n",
    "print(\"{} * {} * {} = {} \".format(x,y,z,multiply))"
   ]
  },
  {
   "cell_type": "markdown",
   "metadata": {},
   "source": [
    "### Problem 2\n",
    "\n",
    "Write a program that calculates body mass index from **height** and **weight** entered by the user. \n",
    "\n",
    "Body mass index :  Weight / Height(m) * Height(m)"
   ]
  },
  {
   "cell_type": "code",
   "execution_count": 4,
   "metadata": {},
   "outputs": [
    {
     "name": "stdin",
     "output_type": "stream",
     "text": [
      "Enter your height as metre: 1.84\n",
      "Enter your weight as kg: 82\n"
     ]
    },
    {
     "data": {
      "text/plain": [
       "24.22022684310019"
      ]
     },
     "execution_count": 4,
     "metadata": {},
     "output_type": "execute_result"
    }
   ],
   "source": [
    "height=float(input(\"Enter your height as metre:\"))\n",
    "weight=float(input(\"Enter your weight as kg:\"))\n",
    "body_index=weight/height**2\n",
    "body_index"
   ]
  },
  {
   "cell_type": "markdown",
   "metadata": {},
   "source": [
    "### Problem 3\n",
    "\n",
    "With your $ 200, how many pieces of material can you get for $ 11 each? How much money do you have left after buying?"
   ]
  },
  {
   "cell_type": "code",
   "execution_count": 9,
   "metadata": {},
   "outputs": [
    {
     "name": "stdout",
     "output_type": "stream",
     "text": [
      "pieces: 18 left: 2\n"
     ]
    }
   ],
   "source": [
    "print(\"pieces:\",200//11, \"left:\", 200%11)"
   ]
  },
  {
   "cell_type": "markdown",
   "metadata": {},
   "source": [
    "### Problem 4\n",
    "\n",
    "Ask the user for two numbers and assign these numbers to variables and replace the values of these variables with each other."
   ]
  },
  {
   "cell_type": "code",
   "execution_count": 13,
   "metadata": {},
   "outputs": [
    {
     "name": "stdin",
     "output_type": "stream",
     "text": [
      "Enter a numb as x: 2\n",
      "Enter a numb as y: 3\n"
     ]
    },
    {
     "name": "stdout",
     "output_type": "stream",
     "text": [
      "x= 3 y= 2\n",
      "3 2\n"
     ]
    }
   ],
   "source": [
    "x=int(input(\"Enter a numb as x:\"))\n",
    "y=int(input(\"Enter a numb as y:\"))\n",
    "z=None\n",
    "print(\"x=\",y,\"y=\",x)\n",
    "z=x\n",
    "x=y\n",
    "y=z\n",
    "print(x,y)\n"
   ]
  },
  {
   "cell_type": "markdown",
   "metadata": {},
   "source": [
    "### Problem 5\n",
    "\n",
    "Write a Python program to solve (x - y) * (x + y)."
   ]
  },
  {
   "cell_type": "code",
   "execution_count": 14,
   "metadata": {},
   "outputs": [
    {
     "name": "stdout",
     "output_type": "stream",
     "text": [
      "-5\n"
     ]
    }
   ],
   "source": [
    "x=2\n",
    "y=3\n",
    "print((x - y) * (x + y))"
   ]
  },
  {
   "cell_type": "markdown",
   "metadata": {},
   "source": [
    "### Problem 6\n",
    "\n",
    "Get **word**, **seperator** and **repetition** values from the user and print the word on the screen according to the given values. \n",
    "\n",
    "Ex: word = ali sep = / repetition = 3 ----> ali/ali/ali"
   ]
  },
  {
   "cell_type": "code",
   "execution_count": 27,
   "metadata": {},
   "outputs": [
    {
     "name": "stdout",
     "output_type": "stream",
     "text": [
      "ali/ali/ali\n"
     ]
    }
   ],
   "source": [
    "word=\"ali\"\n",
    "sep=\"/\"\n",
    "repetition=3\n",
    "x=(word+sep)*repetition\n",
    "print(x[:-len(sep)])"
   ]
  },
  {
   "cell_type": "markdown",
   "metadata": {},
   "source": [
    "### Problem 7\n",
    "\n",
    "Get a sitring and an integer input from the user and get the output shown as in the example.\n",
    "\n",
    "Ex: word = Clarusway n = 3 OUTPUT = waywayway"
   ]
  },
  {
   "cell_type": "code",
   "execution_count": 29,
   "metadata": {},
   "outputs": [
    {
     "data": {
      "text/plain": [
       "'waywayway'"
      ]
     },
     "execution_count": 29,
     "metadata": {},
     "output_type": "execute_result"
    }
   ],
   "source": [
    "word = \"Clarusway\"\n",
    "n = 3\n",
    "x=word[-3:]*n\n",
    "x"
   ]
  },
  {
   "cell_type": "markdown",
   "metadata": {},
   "source": [
    "### Problem 8\n",
    "\n",
    "Get a number from the user. \n",
    "\n",
    "If the number is divided by 3 print *Clarus*, if it is divided by 5 print *way*, if it is divided by both 3 and 5 print *Clarusway*. \n",
    "\n",
    "If not, print the number itself."
   ]
  },
  {
   "cell_type": "code",
   "execution_count": 35,
   "metadata": {},
   "outputs": [
    {
     "name": "stdin",
     "output_type": "stream",
     "text": [
      "Enter number: 21\n"
     ]
    },
    {
     "name": "stdout",
     "output_type": "stream",
     "text": [
      "Clarus\n"
     ]
    }
   ],
   "source": [
    "number=int(input(\"Enter number:\"))\n",
    "if number%3==0 and number%5==0:\n",
    "    print(\"Clarusway\")\n",
    "elif number%3==0:\n",
    "    print(\"Clarus\")\n",
    "elif number%5==0:\n",
    "    print(\"way\")\n",
    "else:\n",
    "    print(number)"
   ]
  },
  {
   "cell_type": "markdown",
   "metadata": {},
   "source": [
    "### Problem 9\n",
    "letters = \"abclarusxyz\"\n",
    "- get the word **clarus** in the string\n",
    "- get the word **cba**\n",
    "- print the last eight characters in reverse order"
   ]
  },
  {
   "cell_type": "code",
   "execution_count": 36,
   "metadata": {},
   "outputs": [],
   "source": [
    "letters = \"abclarusxyz\""
   ]
  },
  {
   "cell_type": "code",
   "execution_count": 37,
   "metadata": {},
   "outputs": [
    {
     "data": {
      "text/plain": [
       "'clarus'"
      ]
     },
     "execution_count": 37,
     "metadata": {},
     "output_type": "execute_result"
    }
   ],
   "source": [
    "letters[2:8]"
   ]
  },
  {
   "cell_type": "code",
   "execution_count": 38,
   "metadata": {},
   "outputs": [
    {
     "data": {
      "text/plain": [
       "'cba'"
      ]
     },
     "execution_count": 38,
     "metadata": {},
     "output_type": "execute_result"
    }
   ],
   "source": [
    "letters[2::-1]"
   ]
  },
  {
   "cell_type": "code",
   "execution_count": 39,
   "metadata": {},
   "outputs": [
    {
     "data": {
      "text/plain": [
       "'zyxsural'"
      ]
     },
     "execution_count": 39,
     "metadata": {},
     "output_type": "execute_result"
    }
   ],
   "source": [
    "letters[-1:-9:-1]"
   ]
  },
  {
   "cell_type": "markdown",
   "metadata": {},
   "source": [
    "### Problem 10\n",
    "\n",
    "Print **Clarusway is the best** from the elements of the rand_list list.\n",
    "\n",
    "rand_list = [1,[1, 2, \"Clarus\", [2, \"way\"]], \" is the best\"]"
   ]
  },
  {
   "cell_type": "code",
   "execution_count": 40,
   "metadata": {},
   "outputs": [
    {
     "name": "stdout",
     "output_type": "stream",
     "text": [
      "Clarusway is the best\n"
     ]
    }
   ],
   "source": [
    "rand_list = [1,[1, 2, \"Clarus\", [2, \"way\"]], \" is the best\"]\n",
    "print(rand_list[1][2]+rand_list[1][3][1]+rand_list[2])"
   ]
  },
  {
   "cell_type": "markdown",
   "metadata": {},
   "source": [
    "### Problem 11\n",
    "\n",
    "Sort the list given below in ascending order. Find the missing number from 1 to 10.\n",
    "\n",
    "num_list = [2, 3, 1, 5, 6, 4, 9, 8, 10]"
   ]
  },
  {
   "cell_type": "code",
   "execution_count": 63,
   "metadata": {},
   "outputs": [
    {
     "name": "stdout",
     "output_type": "stream",
     "text": [
      "[1, 2, 3, 4, 5, 6, 8, 9, 10]\n",
      "{1, 2, 3, 4, 5, 6, 7, 8, 9, 10}\n",
      "{7}\n"
     ]
    }
   ],
   "source": [
    "num_list = [2, 3, 1, 5, 6, 4, 9, 8, 10]\n",
    "sorted_num=(sorted(num_list))\n",
    "print(sorted_num)\n",
    "range_num=set(range(1,11))\n",
    "print(range_num)\n",
    "print(range_num.difference(sorted_num))"
   ]
  },
  {
   "cell_type": "code",
   "execution_count": 69,
   "metadata": {},
   "outputs": [
    {
     "data": {
      "text/plain": [
       "[10, 9, 8, 6, 5, 4, 3, 2, 1]"
      ]
     },
     "execution_count": 69,
     "metadata": {},
     "output_type": "execute_result"
    }
   ],
   "source": [
    "num_list = [2, 3, 1, 5, 6, 4, 9, 8, 10]\n",
    "num_list.sort(reverse=True)\n",
    "num_list"
   ]
  },
  {
   "cell_type": "markdown",
   "metadata": {},
   "source": [
    "### Problem 12\n",
    "\n",
    "Print the oldest person's name?\n",
    "\n",
    "old ={\n",
    "  \"Emma\": 71,\n",
    "  \"Jack\": 45,\n",
    "  \"Amy\": 15,\n",
    "  \"Ben\": 29\n",
    "}"
   ]
  },
  {
   "cell_type": "code",
   "execution_count": 95,
   "metadata": {},
   "outputs": [
    {
     "name": "stdout",
     "output_type": "stream",
     "text": [
      "dict_keys(['Emma', 'Jack', 'Amy', 'Ben'])\n",
      "dict_values([71, 45, 15, 29])\n",
      "Emma\n"
     ]
    }
   ],
   "source": [
    "old ={ \"Emma\": 71, \"Jack\": 45, \"Amy\": 15, \"Ben\": 29 }\n",
    "print(old.keys())\n",
    "print(old.values())\n",
    "key=max(old.values())\n",
    "print(max(old, key=old.get))"
   ]
  },
  {
   "cell_type": "markdown",
   "metadata": {},
   "source": [
    "### Problem 13\n",
    "\n",
    "Write a Python program to sum all the items in a dictionary.\n",
    "\n",
    "my_dict = {'data1':100,'data2':-54,'data3':247}"
   ]
  },
  {
   "cell_type": "code",
   "execution_count": 96,
   "metadata": {},
   "outputs": [
    {
     "data": {
      "text/plain": [
       "293"
      ]
     },
     "execution_count": 96,
     "metadata": {},
     "output_type": "execute_result"
    }
   ],
   "source": [
    "my_dict = {'data1':100,'data2':-54,'data3':247}\n",
    "sum(my_dict.values())"
   ]
  },
  {
   "cell_type": "markdown",
   "metadata": {},
   "source": [
    "### Problem 14\n",
    "\n",
    "Write a Python program to compute average of two given lists.\n",
    "\n",
    "nums1 = [1, 1, 3, 4, 4, 5, 6, 7]\n",
    "nums2 = [0, 1, 2, 3, 4, 4, 5, 7, 8]"
   ]
  },
  {
   "cell_type": "code",
   "execution_count": 100,
   "metadata": {},
   "outputs": [
    {
     "name": "stdout",
     "output_type": "stream",
     "text": [
      "3.823529411764706\n"
     ]
    }
   ],
   "source": [
    "nums1 = [1, 1, 3, 4, 4, 5, 6, 7]\n",
    "nums2 = [0, 1, 2, 3, 4, 4, 5, 7, 8]\n",
    "print(sum(nums1+nums2)/len(nums1+nums2))"
   ]
  },
  {
   "cell_type": "code",
   "execution_count": null,
   "metadata": {},
   "outputs": [],
   "source": []
  }
 ],
 "metadata": {
  "kernelspec": {
   "display_name": "Python 3",
   "language": "python",
   "name": "python3"
  },
  "language_info": {
   "codemirror_mode": {
    "name": "ipython",
    "version": 3
   },
   "file_extension": ".py",
   "mimetype": "text/x-python",
   "name": "python",
   "nbconvert_exporter": "python",
   "pygments_lexer": "ipython3",
   "version": "3.8.5"
  }
 },
 "nbformat": 4,
 "nbformat_minor": 4
}
